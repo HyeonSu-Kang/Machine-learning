{
  "nbformat": 4,
  "nbformat_minor": 0,
  "metadata": {
    "colab": {
      "provenance": [],
      "authorship_tag": "ABX9TyM0iQv22UUUsV2si6GWkmyV"
    },
    "kernelspec": {
      "name": "python3",
      "display_name": "Python 3"
    },
    "language_info": {
      "name": "python"
    }
  },
  "cells": [
    {
      "cell_type": "markdown",
      "source": [
        "#5.두 약 투여에 따른 추가 수면 시간 평균의 차이, Paired t-test\n"
      ],
      "metadata": {
        "id": "DMx0_II1xK6i"
      }
    },
    {
      "cell_type": "markdown",
      "source": [
        "##1.Paired t-test"
      ],
      "metadata": {
        "id": "352V7TOm9jMh"
      }
    },
    {
      "cell_type": "code",
      "source": [
        "#[1] 데이터 가져오기\n",
        "import pandas as pd\n",
        "import numpy as np\n",
        "\n",
        "data = {\n",
        "    \"extra\": [0.7, -1.6, -0.2, -1.2, -0.1, 3.4, 3.7, 0.8, 0.0, 2.0, 1.9, 0.8, 1.1, 0.1, -0.1, 4.4, 5.5, 1.6, 4.6, 3.4],\n",
        "    \"group\": [1.0, 1.0, 1.0, 1.0, 1.0, 1.0, 1.0, 1.0, 1.0, 1.0, 2.0, 2.0, 2.0, 2.0, 2.0, 2.0, 2.0, 2.0, 2.0, 2.0],\n",
        "    \"ID\": [1.0, 2.0, 3.0, 4.0, 5.0, 6.0, 7.0, 8.0, 9.0, 10.0, 1.0, 2.0, 3.0, 4.0, 5.0, 6.0, 7.0, 8.0, 9.0, 10.0]\n",
        "}\n",
        "\n",
        "df2 = pd.DataFrame(data)\n",
        "print(df2.shape)\n",
        "df2.T"
      ],
      "metadata": {
        "colab": {
          "base_uri": "https://localhost:8080/",
          "height": 181
        },
        "outputId": "ea4c54e2-cfa4-449f-9438-a9634498ec01",
        "id": "dm5c1-MqxK6m"
      },
      "execution_count": 1,
      "outputs": [
        {
          "output_type": "stream",
          "name": "stdout",
          "text": [
            "(20, 3)\n"
          ]
        },
        {
          "output_type": "execute_result",
          "data": {
            "text/plain": [
              "        0    1    2    3    4    5    6    7    8     9    10   11   12   13  \\\n",
              "extra  0.7 -1.6 -0.2 -1.2 -0.1  3.4  3.7  0.8  0.0   2.0  1.9  0.8  1.1  0.1   \n",
              "group  1.0  1.0  1.0  1.0  1.0  1.0  1.0  1.0  1.0   1.0  2.0  2.0  2.0  2.0   \n",
              "ID     1.0  2.0  3.0  4.0  5.0  6.0  7.0  8.0  9.0  10.0  1.0  2.0  3.0  4.0   \n",
              "\n",
              "        14   15   16   17   18    19  \n",
              "extra -0.1  4.4  5.5  1.6  4.6   3.4  \n",
              "group  2.0  2.0  2.0  2.0  2.0   2.0  \n",
              "ID     5.0  6.0  7.0  8.0  9.0  10.0  "
            ],
            "text/html": [
              "\n",
              "  <div id=\"df-06e12482-aad4-42dc-87b4-c1c3ace3a1e2\" class=\"colab-df-container\">\n",
              "    <div>\n",
              "<style scoped>\n",
              "    .dataframe tbody tr th:only-of-type {\n",
              "        vertical-align: middle;\n",
              "    }\n",
              "\n",
              "    .dataframe tbody tr th {\n",
              "        vertical-align: top;\n",
              "    }\n",
              "\n",
              "    .dataframe thead th {\n",
              "        text-align: right;\n",
              "    }\n",
              "</style>\n",
              "<table border=\"1\" class=\"dataframe\">\n",
              "  <thead>\n",
              "    <tr style=\"text-align: right;\">\n",
              "      <th></th>\n",
              "      <th>0</th>\n",
              "      <th>1</th>\n",
              "      <th>2</th>\n",
              "      <th>3</th>\n",
              "      <th>4</th>\n",
              "      <th>5</th>\n",
              "      <th>6</th>\n",
              "      <th>7</th>\n",
              "      <th>8</th>\n",
              "      <th>9</th>\n",
              "      <th>10</th>\n",
              "      <th>11</th>\n",
              "      <th>12</th>\n",
              "      <th>13</th>\n",
              "      <th>14</th>\n",
              "      <th>15</th>\n",
              "      <th>16</th>\n",
              "      <th>17</th>\n",
              "      <th>18</th>\n",
              "      <th>19</th>\n",
              "    </tr>\n",
              "  </thead>\n",
              "  <tbody>\n",
              "    <tr>\n",
              "      <th>extra</th>\n",
              "      <td>0.7</td>\n",
              "      <td>-1.6</td>\n",
              "      <td>-0.2</td>\n",
              "      <td>-1.2</td>\n",
              "      <td>-0.1</td>\n",
              "      <td>3.4</td>\n",
              "      <td>3.7</td>\n",
              "      <td>0.8</td>\n",
              "      <td>0.0</td>\n",
              "      <td>2.0</td>\n",
              "      <td>1.9</td>\n",
              "      <td>0.8</td>\n",
              "      <td>1.1</td>\n",
              "      <td>0.1</td>\n",
              "      <td>-0.1</td>\n",
              "      <td>4.4</td>\n",
              "      <td>5.5</td>\n",
              "      <td>1.6</td>\n",
              "      <td>4.6</td>\n",
              "      <td>3.4</td>\n",
              "    </tr>\n",
              "    <tr>\n",
              "      <th>group</th>\n",
              "      <td>1.0</td>\n",
              "      <td>1.0</td>\n",
              "      <td>1.0</td>\n",
              "      <td>1.0</td>\n",
              "      <td>1.0</td>\n",
              "      <td>1.0</td>\n",
              "      <td>1.0</td>\n",
              "      <td>1.0</td>\n",
              "      <td>1.0</td>\n",
              "      <td>1.0</td>\n",
              "      <td>2.0</td>\n",
              "      <td>2.0</td>\n",
              "      <td>2.0</td>\n",
              "      <td>2.0</td>\n",
              "      <td>2.0</td>\n",
              "      <td>2.0</td>\n",
              "      <td>2.0</td>\n",
              "      <td>2.0</td>\n",
              "      <td>2.0</td>\n",
              "      <td>2.0</td>\n",
              "    </tr>\n",
              "    <tr>\n",
              "      <th>ID</th>\n",
              "      <td>1.0</td>\n",
              "      <td>2.0</td>\n",
              "      <td>3.0</td>\n",
              "      <td>4.0</td>\n",
              "      <td>5.0</td>\n",
              "      <td>6.0</td>\n",
              "      <td>7.0</td>\n",
              "      <td>8.0</td>\n",
              "      <td>9.0</td>\n",
              "      <td>10.0</td>\n",
              "      <td>1.0</td>\n",
              "      <td>2.0</td>\n",
              "      <td>3.0</td>\n",
              "      <td>4.0</td>\n",
              "      <td>5.0</td>\n",
              "      <td>6.0</td>\n",
              "      <td>7.0</td>\n",
              "      <td>8.0</td>\n",
              "      <td>9.0</td>\n",
              "      <td>10.0</td>\n",
              "    </tr>\n",
              "  </tbody>\n",
              "</table>\n",
              "</div>\n",
              "    <div class=\"colab-df-buttons\">\n",
              "\n",
              "  <div class=\"colab-df-container\">\n",
              "    <button class=\"colab-df-convert\" onclick=\"convertToInteractive('df-06e12482-aad4-42dc-87b4-c1c3ace3a1e2')\"\n",
              "            title=\"Convert this dataframe to an interactive table.\"\n",
              "            style=\"display:none;\">\n",
              "\n",
              "  <svg xmlns=\"http://www.w3.org/2000/svg\" height=\"24px\" viewBox=\"0 -960 960 960\">\n",
              "    <path d=\"M120-120v-720h720v720H120Zm60-500h600v-160H180v160Zm220 220h160v-160H400v160Zm0 220h160v-160H400v160ZM180-400h160v-160H180v160Zm440 0h160v-160H620v160ZM180-180h160v-160H180v160Zm440 0h160v-160H620v160Z\"/>\n",
              "  </svg>\n",
              "    </button>\n",
              "\n",
              "  <style>\n",
              "    .colab-df-container {\n",
              "      display:flex;\n",
              "      gap: 12px;\n",
              "    }\n",
              "\n",
              "    .colab-df-convert {\n",
              "      background-color: #E8F0FE;\n",
              "      border: none;\n",
              "      border-radius: 50%;\n",
              "      cursor: pointer;\n",
              "      display: none;\n",
              "      fill: #1967D2;\n",
              "      height: 32px;\n",
              "      padding: 0 0 0 0;\n",
              "      width: 32px;\n",
              "    }\n",
              "\n",
              "    .colab-df-convert:hover {\n",
              "      background-color: #E2EBFA;\n",
              "      box-shadow: 0px 1px 2px rgba(60, 64, 67, 0.3), 0px 1px 3px 1px rgba(60, 64, 67, 0.15);\n",
              "      fill: #174EA6;\n",
              "    }\n",
              "\n",
              "    .colab-df-buttons div {\n",
              "      margin-bottom: 4px;\n",
              "    }\n",
              "\n",
              "    [theme=dark] .colab-df-convert {\n",
              "      background-color: #3B4455;\n",
              "      fill: #D2E3FC;\n",
              "    }\n",
              "\n",
              "    [theme=dark] .colab-df-convert:hover {\n",
              "      background-color: #434B5C;\n",
              "      box-shadow: 0px 1px 3px 1px rgba(0, 0, 0, 0.15);\n",
              "      filter: drop-shadow(0px 1px 2px rgba(0, 0, 0, 0.3));\n",
              "      fill: #FFFFFF;\n",
              "    }\n",
              "  </style>\n",
              "\n",
              "    <script>\n",
              "      const buttonEl =\n",
              "        document.querySelector('#df-06e12482-aad4-42dc-87b4-c1c3ace3a1e2 button.colab-df-convert');\n",
              "      buttonEl.style.display =\n",
              "        google.colab.kernel.accessAllowed ? 'block' : 'none';\n",
              "\n",
              "      async function convertToInteractive(key) {\n",
              "        const element = document.querySelector('#df-06e12482-aad4-42dc-87b4-c1c3ace3a1e2');\n",
              "        const dataTable =\n",
              "          await google.colab.kernel.invokeFunction('convertToInteractive',\n",
              "                                                    [key], {});\n",
              "        if (!dataTable) return;\n",
              "\n",
              "        const docLinkHtml = 'Like what you see? Visit the ' +\n",
              "          '<a target=\"_blank\" href=https://colab.research.google.com/notebooks/data_table.ipynb>data table notebook</a>'\n",
              "          + ' to learn more about interactive tables.';\n",
              "        element.innerHTML = '';\n",
              "        dataTable['output_type'] = 'display_data';\n",
              "        await google.colab.output.renderOutput(dataTable, element);\n",
              "        const docLink = document.createElement('div');\n",
              "        docLink.innerHTML = docLinkHtml;\n",
              "        element.appendChild(docLink);\n",
              "      }\n",
              "    </script>\n",
              "  </div>\n",
              "\n",
              "\n",
              "<div id=\"df-95c19041-97d2-42e0-b37c-5aec7d2f1c7c\">\n",
              "  <button class=\"colab-df-quickchart\" onclick=\"quickchart('df-95c19041-97d2-42e0-b37c-5aec7d2f1c7c')\"\n",
              "            title=\"Suggest charts\"\n",
              "            style=\"display:none;\">\n",
              "\n",
              "<svg xmlns=\"http://www.w3.org/2000/svg\" height=\"24px\"viewBox=\"0 0 24 24\"\n",
              "     width=\"24px\">\n",
              "    <g>\n",
              "        <path d=\"M19 3H5c-1.1 0-2 .9-2 2v14c0 1.1.9 2 2 2h14c1.1 0 2-.9 2-2V5c0-1.1-.9-2-2-2zM9 17H7v-7h2v7zm4 0h-2V7h2v10zm4 0h-2v-4h2v4z\"/>\n",
              "    </g>\n",
              "</svg>\n",
              "  </button>\n",
              "\n",
              "<style>\n",
              "  .colab-df-quickchart {\n",
              "      --bg-color: #E8F0FE;\n",
              "      --fill-color: #1967D2;\n",
              "      --hover-bg-color: #E2EBFA;\n",
              "      --hover-fill-color: #174EA6;\n",
              "      --disabled-fill-color: #AAA;\n",
              "      --disabled-bg-color: #DDD;\n",
              "  }\n",
              "\n",
              "  [theme=dark] .colab-df-quickchart {\n",
              "      --bg-color: #3B4455;\n",
              "      --fill-color: #D2E3FC;\n",
              "      --hover-bg-color: #434B5C;\n",
              "      --hover-fill-color: #FFFFFF;\n",
              "      --disabled-bg-color: #3B4455;\n",
              "      --disabled-fill-color: #666;\n",
              "  }\n",
              "\n",
              "  .colab-df-quickchart {\n",
              "    background-color: var(--bg-color);\n",
              "    border: none;\n",
              "    border-radius: 50%;\n",
              "    cursor: pointer;\n",
              "    display: none;\n",
              "    fill: var(--fill-color);\n",
              "    height: 32px;\n",
              "    padding: 0;\n",
              "    width: 32px;\n",
              "  }\n",
              "\n",
              "  .colab-df-quickchart:hover {\n",
              "    background-color: var(--hover-bg-color);\n",
              "    box-shadow: 0 1px 2px rgba(60, 64, 67, 0.3), 0 1px 3px 1px rgba(60, 64, 67, 0.15);\n",
              "    fill: var(--button-hover-fill-color);\n",
              "  }\n",
              "\n",
              "  .colab-df-quickchart-complete:disabled,\n",
              "  .colab-df-quickchart-complete:disabled:hover {\n",
              "    background-color: var(--disabled-bg-color);\n",
              "    fill: var(--disabled-fill-color);\n",
              "    box-shadow: none;\n",
              "  }\n",
              "\n",
              "  .colab-df-spinner {\n",
              "    border: 2px solid var(--fill-color);\n",
              "    border-color: transparent;\n",
              "    border-bottom-color: var(--fill-color);\n",
              "    animation:\n",
              "      spin 1s steps(1) infinite;\n",
              "  }\n",
              "\n",
              "  @keyframes spin {\n",
              "    0% {\n",
              "      border-color: transparent;\n",
              "      border-bottom-color: var(--fill-color);\n",
              "      border-left-color: var(--fill-color);\n",
              "    }\n",
              "    20% {\n",
              "      border-color: transparent;\n",
              "      border-left-color: var(--fill-color);\n",
              "      border-top-color: var(--fill-color);\n",
              "    }\n",
              "    30% {\n",
              "      border-color: transparent;\n",
              "      border-left-color: var(--fill-color);\n",
              "      border-top-color: var(--fill-color);\n",
              "      border-right-color: var(--fill-color);\n",
              "    }\n",
              "    40% {\n",
              "      border-color: transparent;\n",
              "      border-right-color: var(--fill-color);\n",
              "      border-top-color: var(--fill-color);\n",
              "    }\n",
              "    60% {\n",
              "      border-color: transparent;\n",
              "      border-right-color: var(--fill-color);\n",
              "    }\n",
              "    80% {\n",
              "      border-color: transparent;\n",
              "      border-right-color: var(--fill-color);\n",
              "      border-bottom-color: var(--fill-color);\n",
              "    }\n",
              "    90% {\n",
              "      border-color: transparent;\n",
              "      border-bottom-color: var(--fill-color);\n",
              "    }\n",
              "  }\n",
              "</style>\n",
              "\n",
              "  <script>\n",
              "    async function quickchart(key) {\n",
              "      const quickchartButtonEl =\n",
              "        document.querySelector('#' + key + ' button');\n",
              "      quickchartButtonEl.disabled = true;  // To prevent multiple clicks.\n",
              "      quickchartButtonEl.classList.add('colab-df-spinner');\n",
              "      try {\n",
              "        const charts = await google.colab.kernel.invokeFunction(\n",
              "            'suggestCharts', [key], {});\n",
              "      } catch (error) {\n",
              "        console.error('Error during call to suggestCharts:', error);\n",
              "      }\n",
              "      quickchartButtonEl.classList.remove('colab-df-spinner');\n",
              "      quickchartButtonEl.classList.add('colab-df-quickchart-complete');\n",
              "    }\n",
              "    (() => {\n",
              "      let quickchartButtonEl =\n",
              "        document.querySelector('#df-95c19041-97d2-42e0-b37c-5aec7d2f1c7c button');\n",
              "      quickchartButtonEl.style.display =\n",
              "        google.colab.kernel.accessAllowed ? 'block' : 'none';\n",
              "    })();\n",
              "  </script>\n",
              "</div>\n",
              "\n",
              "    </div>\n",
              "  </div>\n"
            ],
            "application/vnd.google.colaboratory.intrinsic+json": {
              "type": "dataframe",
              "summary": "{\n  \"name\": \"df2\",\n  \"rows\": 3,\n  \"fields\": [\n    {\n      \"column\": 0,\n      \"properties\": {\n        \"dtype\": \"number\",\n        \"std\": 0.17320508075688776,\n        \"min\": 0.7,\n        \"max\": 1.0,\n        \"num_unique_values\": 2,\n        \"samples\": [\n          1.0,\n          0.7\n        ],\n        \"semantic_type\": \"\",\n        \"description\": \"\"\n      }\n    },\n    {\n      \"column\": 1,\n      \"properties\": {\n        \"dtype\": \"number\",\n        \"std\": 1.858314648635514,\n        \"min\": -1.6,\n        \"max\": 2.0,\n        \"num_unique_values\": 3,\n        \"samples\": [\n          -1.6,\n          1.0\n        ],\n        \"semantic_type\": \"\",\n        \"description\": \"\"\n      }\n    },\n    {\n      \"column\": 2,\n      \"properties\": {\n        \"dtype\": \"number\",\n        \"std\": 1.6165807537309522,\n        \"min\": -0.2,\n        \"max\": 3.0,\n        \"num_unique_values\": 3,\n        \"samples\": [\n          -0.2,\n          1.0\n        ],\n        \"semantic_type\": \"\",\n        \"description\": \"\"\n      }\n    },\n    {\n      \"column\": 3,\n      \"properties\": {\n        \"dtype\": \"number\",\n        \"std\": 2.6102362600602524,\n        \"min\": -1.2,\n        \"max\": 4.0,\n        \"num_unique_values\": 3,\n        \"samples\": [\n          -1.2,\n          1.0\n        ],\n        \"semantic_type\": \"\",\n        \"description\": \"\"\n      }\n    },\n    {\n      \"column\": 4,\n      \"properties\": {\n        \"dtype\": \"number\",\n        \"std\": 2.6839026311200884,\n        \"min\": -0.1,\n        \"max\": 5.0,\n        \"num_unique_values\": 3,\n        \"samples\": [\n          -0.1,\n          1.0\n        ],\n        \"semantic_type\": \"\",\n        \"description\": \"\"\n      }\n    },\n    {\n      \"column\": 5,\n      \"properties\": {\n        \"dtype\": \"number\",\n        \"std\": 2.5006665778014736,\n        \"min\": 1.0,\n        \"max\": 6.0,\n        \"num_unique_values\": 3,\n        \"samples\": [\n          3.4,\n          1.0\n        ],\n        \"semantic_type\": \"\",\n        \"description\": \"\"\n      }\n    },\n    {\n      \"column\": 6,\n      \"properties\": {\n        \"dtype\": \"number\",\n        \"std\": 3.004995840263344,\n        \"min\": 1.0,\n        \"max\": 7.0,\n        \"num_unique_values\": 3,\n        \"samples\": [\n          3.7,\n          1.0\n        ],\n        \"semantic_type\": \"\",\n        \"description\": \"\"\n      }\n    },\n    {\n      \"column\": 7,\n      \"properties\": {\n        \"dtype\": \"number\",\n        \"std\": 4.100406483915141,\n        \"min\": 0.8,\n        \"max\": 8.0,\n        \"num_unique_values\": 3,\n        \"samples\": [\n          0.8,\n          1.0\n        ],\n        \"semantic_type\": \"\",\n        \"description\": \"\"\n      }\n    },\n    {\n      \"column\": 8,\n      \"properties\": {\n        \"dtype\": \"number\",\n        \"std\": 4.932882862316247,\n        \"min\": 0.0,\n        \"max\": 9.0,\n        \"num_unique_values\": 3,\n        \"samples\": [\n          0.0,\n          1.0\n        ],\n        \"semantic_type\": \"\",\n        \"description\": \"\"\n      }\n    },\n    {\n      \"column\": 9,\n      \"properties\": {\n        \"dtype\": \"number\",\n        \"std\": 4.932882862316247,\n        \"min\": 1.0,\n        \"max\": 10.0,\n        \"num_unique_values\": 3,\n        \"samples\": [\n          2.0,\n          1.0\n        ],\n        \"semantic_type\": \"\",\n        \"description\": \"\"\n      }\n    },\n    {\n      \"column\": 10,\n      \"properties\": {\n        \"dtype\": \"number\",\n        \"std\": 0.5507570547286103,\n        \"min\": 1.0,\n        \"max\": 2.0,\n        \"num_unique_values\": 3,\n        \"samples\": [\n          1.9,\n          2.0\n        ],\n        \"semantic_type\": \"\",\n        \"description\": \"\"\n      }\n    },\n    {\n      \"column\": 11,\n      \"properties\": {\n        \"dtype\": \"number\",\n        \"std\": 0.6928203230275509,\n        \"min\": 0.8,\n        \"max\": 2.0,\n        \"num_unique_values\": 2,\n        \"samples\": [\n          2.0,\n          0.8\n        ],\n        \"semantic_type\": \"\",\n        \"description\": \"\"\n      }\n    },\n    {\n      \"column\": 12,\n      \"properties\": {\n        \"dtype\": \"number\",\n        \"std\": 0.9504384952922168,\n        \"min\": 1.1,\n        \"max\": 3.0,\n        \"num_unique_values\": 3,\n        \"samples\": [\n          1.1,\n          2.0\n        ],\n        \"semantic_type\": \"\",\n        \"description\": \"\"\n      }\n    },\n    {\n      \"column\": 13,\n      \"properties\": {\n        \"dtype\": \"number\",\n        \"std\": 1.9502136635080098,\n        \"min\": 0.1,\n        \"max\": 4.0,\n        \"num_unique_values\": 3,\n        \"samples\": [\n          0.1,\n          2.0\n        ],\n        \"semantic_type\": \"\",\n        \"description\": \"\"\n      }\n    },\n    {\n      \"column\": 14,\n      \"properties\": {\n        \"dtype\": \"number\",\n        \"std\": 2.563201123595259,\n        \"min\": -0.1,\n        \"max\": 5.0,\n        \"num_unique_values\": 3,\n        \"samples\": [\n          -0.1,\n          2.0\n        ],\n        \"semantic_type\": \"\",\n        \"description\": \"\"\n      }\n    },\n    {\n      \"column\": 15,\n      \"properties\": {\n        \"dtype\": \"number\",\n        \"std\": 2.0132891827388666,\n        \"min\": 2.0,\n        \"max\": 6.0,\n        \"num_unique_values\": 3,\n        \"samples\": [\n          4.4,\n          2.0\n        ],\n        \"semantic_type\": \"\",\n        \"description\": \"\"\n      }\n    },\n    {\n      \"column\": 16,\n      \"properties\": {\n        \"dtype\": \"number\",\n        \"std\": 2.565800719723442,\n        \"min\": 2.0,\n        \"max\": 7.0,\n        \"num_unique_values\": 3,\n        \"samples\": [\n          5.5,\n          2.0\n        ],\n        \"semantic_type\": \"\",\n        \"description\": \"\"\n      }\n    },\n    {\n      \"column\": 17,\n      \"properties\": {\n        \"dtype\": \"number\",\n        \"std\": 3.5851545759330006,\n        \"min\": 1.6,\n        \"max\": 8.0,\n        \"num_unique_values\": 3,\n        \"samples\": [\n          1.6,\n          2.0\n        ],\n        \"semantic_type\": \"\",\n        \"description\": \"\"\n      }\n    },\n    {\n      \"column\": 18,\n      \"properties\": {\n        \"dtype\": \"number\",\n        \"std\": 3.538361202590827,\n        \"min\": 2.0,\n        \"max\": 9.0,\n        \"num_unique_values\": 3,\n        \"samples\": [\n          4.6,\n          2.0\n        ],\n        \"semantic_type\": \"\",\n        \"description\": \"\"\n      }\n    },\n    {\n      \"column\": 19,\n      \"properties\": {\n        \"dtype\": \"number\",\n        \"std\": 4.2723919920032305,\n        \"min\": 2.0,\n        \"max\": 10.0,\n        \"num_unique_values\": 3,\n        \"samples\": [\n          3.4,\n          2.0\n        ],\n        \"semantic_type\": \"\",\n        \"description\": \"\"\n      }\n    }\n  ]\n}"
            }
          },
          "metadata": {},
          "execution_count": 1
        }
      ]
    },
    {
      "cell_type": "code",
      "source": [
        "#[2] 그룹 나누기\n",
        "gA = df2.loc[df2.group == 1,'extra']\n",
        "gB = df2.loc[df2.group == 2,'extra']\n",
        "\n",
        "#[3] 정규성 검정(shapiro)\n",
        "from scipy.stats import shapiro\n",
        "statisticA,pvalueA = shapiro(gA)\n",
        "statisticB,pvalueB = shapiro(gB)\n",
        "print(f'statisticA : {statisticA:.4f} p-value : {pvalueA:.4f}')\n",
        "print(f'statisticB : {statisticB:.4f} p-value : {pvalueB:.4f}')\n",
        "\n",
        "#[4] 정규성 검정(normaltest) - N.=> 20\n",
        "from scipy.stats import normaltest\n",
        "normaltest(gA)\n",
        "statistic_na,pvalue_na = normaltest(gA)\n",
        "print(f'statistic_na : {statistic_na:.4f} p-value_na : {pvalue_na:.4f}')\n",
        "# 귀무가설 채택! 정규성을 만족함\n",
        "\n",
        "#[5] gA와 gB의 평균 구하기\n",
        "meanA,meanB = gA.mean(),gB.mean()\n",
        "print(f'{meanA:.4f} {meanB:.4f}')"
      ],
      "metadata": {
        "colab": {
          "base_uri": "https://localhost:8080/"
        },
        "outputId": "3234b405-252f-4ca5-c43a-ed4112f1d553",
        "id": "z7WG_AGTxK6o"
      },
      "execution_count": 37,
      "outputs": [
        {
          "output_type": "stream",
          "name": "stdout",
          "text": [
            "statisticA : 0.9258 p-value : 0.4079\n",
            "statisticB : 0.9193 p-value : 0.3511\n",
            "statistic_na : 0.8835 p-value_na : 0.6429\n",
            "0.7500 2.3300\n"
          ]
        }
      ]
    },
    {
      "cell_type": "markdown",
      "source": [
        "##2.가설1. alternativ  = 'two-sided'\n"
      ],
      "metadata": {
        "id": "4hxKw4zBFVKD"
      }
    },
    {
      "cell_type": "markdown",
      "source": [
        "* 귀무가설 : gA의 평균 - gB의 평균이 0과 같다\n",
        "* 대립가설 : gA의 평균 - gB의 평균이 0과 같지 않다\n",
        "\n",
        "* 귀무가설 : gA와 gB의 평균은 같다\n",
        "* 대립가설 : gA와 gB의 평균은 같지 않다\n"
      ],
      "metadata": {
        "id": "UHHLLzwlFbf_"
      }
    },
    {
      "cell_type": "code",
      "source": [
        "# @title\n",
        "#[6] Paire t-test\n",
        "from scipy.stats import ttest_rel\n",
        "statistic,pvalue = ttest_rel(gA,gB,alternative = 'two-sided')\n",
        "print(f'statistic : {statistic:.4f}, pvalue : {pvalue:.4f}')\n",
        "# pvalue : 0.0028 < 0.05이므로 귀무가설을 기각한다.\n",
        "\n",
        "#[7] 결과해석\n",
        "# p-vlaue가 0.05보다 작음\n",
        "# 귀무가설을 기각한다\n",
        "# gA와 gB의 평균은 같지 않다\n",
        "print('기각' if pvalue<0.05 else '채택')"
      ],
      "metadata": {
        "colab": {
          "base_uri": "https://localhost:8080/"
        },
        "id": "nRgTd1zOFvF9",
        "outputId": "1e372663-ad6d-41db-cf61-cb5970fdd350"
      },
      "execution_count": 45,
      "outputs": [
        {
          "output_type": "stream",
          "name": "stdout",
          "text": [
            "statistic : -4.0621, pvalue : 0.0028\n",
            "기각\n"
          ]
        }
      ]
    },
    {
      "cell_type": "markdown",
      "source": [
        "##3.가설 2. alternative = 'less'\n"
      ],
      "metadata": {
        "id": "cG86wpLYIpyr"
      }
    },
    {
      "cell_type": "markdown",
      "source": [
        "* 귀무가설 : gA의 평균 - gB의 평균이 0보다 크거나 같아\n",
        "* 대립가설 : gA의 평균 -gB의 평균이 0보다 작다.\n",
        "* 귀무가설 : gA의 평균이 gB의 평균보다 크거나 같다\n",
        "* 대립가설 : gA의 평균이 gB의 평균보다 작다"
      ],
      "metadata": {
        "id": "6kgV9gYyI8bD"
      }
    },
    {
      "cell_type": "code",
      "source": [
        "#[8] Paired t-test\n",
        "from scipy.stats import ttest_rel\n",
        "statistic,pvalue = ttest_rel(gA,gB,alternative='less')\n",
        "print(f'statistic : {statistic:.4f} pvalue : {pvalue:.4f}')\n",
        "# statistic이 음수 : gA의 평균이 작고, gB의 평균이 큼\n",
        "\n",
        "#[9] 결과 학인\n",
        "# p-value가 0.05보다 작음\n",
        "# 귀무가설을 기각한다\n",
        "# gA의 평균이 gB의 평균보다 작다\n",
        "print('기각' if pvalue<0.05 else '채택')"
      ],
      "metadata": {
        "colab": {
          "base_uri": "https://localhost:8080/"
        },
        "id": "B4-EXF5XFNQX",
        "outputId": "6d71fd66-1e9a-4d25-99fa-bf7171c85966"
      },
      "execution_count": 49,
      "outputs": [
        {
          "output_type": "stream",
          "name": "stdout",
          "text": [
            "statistic : -4.0621 pvalue : 0.0014\n",
            "기각\n"
          ]
        }
      ]
    },
    {
      "cell_type": "markdown",
      "source": [
        "##4.가설 3.alternative = 'greater'\n"
      ],
      "metadata": {
        "id": "KzCRTw1vRX_u"
      }
    },
    {
      "cell_type": "markdown",
      "source": [
        "* 귀무가설 : gA의 평균 - gB의 평균이 0보다 작거나 같다\n",
        "* 대립가설 : gA의 평균 - gB의 평균이 0보다 크다\n",
        "* 귀무가설 : gA의 평균이 gB의 평균보다 작거나 같다\n",
        "* 대립가설 : gA의 평균이 gB의 평균보다 크다"
      ],
      "metadata": {
        "id": "tAAIfFzDRilw"
      }
    },
    {
      "cell_type": "code",
      "source": [
        "#[10] paired t-test\n",
        "from scipy.stats import ttest_rel\n",
        "statistic,pvalue = ttest_rel(gA,gB,alternative = 'greater')\n",
        "print( f'statistic : {statistic:.4f} pvalue : {pvalue:.4f}')\n",
        "\n",
        "#[11] 결과 해석\n",
        "# p-value가 0.05보다 큼\n",
        "# 귀무가설을 채택한다\n",
        "# gA의 평균이 gB의 평균보다 작거나 같다\n",
        "print('기각' if pvalue<0.05 else '채택')"
      ],
      "metadata": {
        "colab": {
          "base_uri": "https://localhost:8080/"
        },
        "id": "PkViuJBfPb1L",
        "outputId": "2c6c0504-122e-45c1-ee27-1f6cccbedae8"
      },
      "execution_count": 58,
      "outputs": [
        {
          "output_type": "stream",
          "name": "stdout",
          "text": [
            "statistic : -4.0621 pvalue : 0.9986\n",
            "채택\n"
          ]
        }
      ]
    }
  ]
}