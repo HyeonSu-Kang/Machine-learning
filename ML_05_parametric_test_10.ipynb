{
  "nbformat": 4,
  "nbformat_minor": 0,
  "metadata": {
    "colab": {
      "provenance": [],
      "authorship_tag": "ABX9TyO8TWNojP5W6S/EM2bIn5IQ"
    },
    "kernelspec": {
      "name": "python3",
      "display_name": "Python 3"
    },
    "language_info": {
      "name": "python"
    }
  },
  "cells": [
    {
      "cell_type": "markdown",
      "source": [
        "# 이원분산분석(Two-way ANOVA)\n"
      ],
      "metadata": {
        "id": "9PX0yDp7D4z8"
      }
    },
    {
      "cell_type": "markdown",
      "source": [
        "##1.이원분산분석(Two-way ANOVA)"
      ],
      "metadata": {
        "id": "isHL7QJ8E4t8"
      }
    },
    {
      "cell_type": "markdown",
      "source": [
        "* 독립변인(범주형)의 수가 두개 일때 집단 간 종속변수(연속형)의 평균 차이가 유의한지를 검증하는 데 사용\n",
        "* 상호작용효과(Interaction effect) 즉, 한 독립변수의 변화가 결과에 미치는 영향이 다른 독립변수의 수준에 따라 달라지는지를 확인하기 위해 사용됨.\n",
        "* statsmodels 라이브러리 사용\n"
      ],
      "metadata": {
        "id": "L4xUfoF4EBYI"
      }
    },
    {
      "cell_type": "markdown",
      "source": [
        "##2.태아의 머리 둘레 측정데이터"
      ],
      "metadata": {
        "id": "blmv1uamE8fi"
      }
    },
    {
      "cell_type": "markdown",
      "source": [
        "* 태아의 머리 둘레 측정 데이터입니다.\n",
        "* 4명의 관측자가 3명의 태아를 대상으로 측정을 했습니다. 이를 통해서 초음파로 태아의 머리 둘레측정 데이터가 재현성이 있는지를 조사하였습니다\n"
      ],
      "metadata": {
        "id": "KyK4lcRJFILM"
      }
    },
    {
      "cell_type": "code",
      "source": [
        "#[1] 데이터 가져오기\n",
        "!git clone https://github.com/HyeonSu-Kang/data\n",
        "import pandas as pd\n",
        "data = pd.read_csv('data/altman.csv')\n",
        "data.tail()"
      ],
      "metadata": {
        "colab": {
          "base_uri": "https://localhost:8080/",
          "height": 225
        },
        "id": "sE58A7X6DY4Z",
        "outputId": "d6f5e32d-3dc2-4519-8897-50cf938a8780"
      },
      "execution_count": null,
      "outputs": [
        {
          "output_type": "stream",
          "name": "stdout",
          "text": [
            "fatal: destination path 'data' already exists and is not an empty directory.\n"
          ]
        },
        {
          "output_type": "execute_result",
          "data": {
            "text/plain": [
              "    head_size  fetus  observer\n",
              "31       12.7    3.0       3.0\n",
              "32       12.5    3.0       3.0\n",
              "33       13.0    3.0       4.0\n",
              "34       12.9    3.0       4.0\n",
              "35       13.8    3.0       4.0"
            ],
            "text/html": [
              "\n",
              "  <div id=\"df-8a253537-1f83-46ef-9333-bfb3c9a71c78\" class=\"colab-df-container\">\n",
              "    <div>\n",
              "<style scoped>\n",
              "    .dataframe tbody tr th:only-of-type {\n",
              "        vertical-align: middle;\n",
              "    }\n",
              "\n",
              "    .dataframe tbody tr th {\n",
              "        vertical-align: top;\n",
              "    }\n",
              "\n",
              "    .dataframe thead th {\n",
              "        text-align: right;\n",
              "    }\n",
              "</style>\n",
              "<table border=\"1\" class=\"dataframe\">\n",
              "  <thead>\n",
              "    <tr style=\"text-align: right;\">\n",
              "      <th></th>\n",
              "      <th>head_size</th>\n",
              "      <th>fetus</th>\n",
              "      <th>observer</th>\n",
              "    </tr>\n",
              "  </thead>\n",
              "  <tbody>\n",
              "    <tr>\n",
              "      <th>31</th>\n",
              "      <td>12.7</td>\n",
              "      <td>3.0</td>\n",
              "      <td>3.0</td>\n",
              "    </tr>\n",
              "    <tr>\n",
              "      <th>32</th>\n",
              "      <td>12.5</td>\n",
              "      <td>3.0</td>\n",
              "      <td>3.0</td>\n",
              "    </tr>\n",
              "    <tr>\n",
              "      <th>33</th>\n",
              "      <td>13.0</td>\n",
              "      <td>3.0</td>\n",
              "      <td>4.0</td>\n",
              "    </tr>\n",
              "    <tr>\n",
              "      <th>34</th>\n",
              "      <td>12.9</td>\n",
              "      <td>3.0</td>\n",
              "      <td>4.0</td>\n",
              "    </tr>\n",
              "    <tr>\n",
              "      <th>35</th>\n",
              "      <td>13.8</td>\n",
              "      <td>3.0</td>\n",
              "      <td>4.0</td>\n",
              "    </tr>\n",
              "  </tbody>\n",
              "</table>\n",
              "</div>\n",
              "    <div class=\"colab-df-buttons\">\n",
              "\n",
              "  <div class=\"colab-df-container\">\n",
              "    <button class=\"colab-df-convert\" onclick=\"convertToInteractive('df-8a253537-1f83-46ef-9333-bfb3c9a71c78')\"\n",
              "            title=\"Convert this dataframe to an interactive table.\"\n",
              "            style=\"display:none;\">\n",
              "\n",
              "  <svg xmlns=\"http://www.w3.org/2000/svg\" height=\"24px\" viewBox=\"0 -960 960 960\">\n",
              "    <path d=\"M120-120v-720h720v720H120Zm60-500h600v-160H180v160Zm220 220h160v-160H400v160Zm0 220h160v-160H400v160ZM180-400h160v-160H180v160Zm440 0h160v-160H620v160ZM180-180h160v-160H180v160Zm440 0h160v-160H620v160Z\"/>\n",
              "  </svg>\n",
              "    </button>\n",
              "\n",
              "  <style>\n",
              "    .colab-df-container {\n",
              "      display:flex;\n",
              "      gap: 12px;\n",
              "    }\n",
              "\n",
              "    .colab-df-convert {\n",
              "      background-color: #E8F0FE;\n",
              "      border: none;\n",
              "      border-radius: 50%;\n",
              "      cursor: pointer;\n",
              "      display: none;\n",
              "      fill: #1967D2;\n",
              "      height: 32px;\n",
              "      padding: 0 0 0 0;\n",
              "      width: 32px;\n",
              "    }\n",
              "\n",
              "    .colab-df-convert:hover {\n",
              "      background-color: #E2EBFA;\n",
              "      box-shadow: 0px 1px 2px rgba(60, 64, 67, 0.3), 0px 1px 3px 1px rgba(60, 64, 67, 0.15);\n",
              "      fill: #174EA6;\n",
              "    }\n",
              "\n",
              "    .colab-df-buttons div {\n",
              "      margin-bottom: 4px;\n",
              "    }\n",
              "\n",
              "    [theme=dark] .colab-df-convert {\n",
              "      background-color: #3B4455;\n",
              "      fill: #D2E3FC;\n",
              "    }\n",
              "\n",
              "    [theme=dark] .colab-df-convert:hover {\n",
              "      background-color: #434B5C;\n",
              "      box-shadow: 0px 1px 3px 1px rgba(0, 0, 0, 0.15);\n",
              "      filter: drop-shadow(0px 1px 2px rgba(0, 0, 0, 0.3));\n",
              "      fill: #FFFFFF;\n",
              "    }\n",
              "  </style>\n",
              "\n",
              "    <script>\n",
              "      const buttonEl =\n",
              "        document.querySelector('#df-8a253537-1f83-46ef-9333-bfb3c9a71c78 button.colab-df-convert');\n",
              "      buttonEl.style.display =\n",
              "        google.colab.kernel.accessAllowed ? 'block' : 'none';\n",
              "\n",
              "      async function convertToInteractive(key) {\n",
              "        const element = document.querySelector('#df-8a253537-1f83-46ef-9333-bfb3c9a71c78');\n",
              "        const dataTable =\n",
              "          await google.colab.kernel.invokeFunction('convertToInteractive',\n",
              "                                                    [key], {});\n",
              "        if (!dataTable) return;\n",
              "\n",
              "        const docLinkHtml = 'Like what you see? Visit the ' +\n",
              "          '<a target=\"_blank\" href=https://colab.research.google.com/notebooks/data_table.ipynb>data table notebook</a>'\n",
              "          + ' to learn more about interactive tables.';\n",
              "        element.innerHTML = '';\n",
              "        dataTable['output_type'] = 'display_data';\n",
              "        await google.colab.output.renderOutput(dataTable, element);\n",
              "        const docLink = document.createElement('div');\n",
              "        docLink.innerHTML = docLinkHtml;\n",
              "        element.appendChild(docLink);\n",
              "      }\n",
              "    </script>\n",
              "  </div>\n",
              "\n",
              "\n",
              "<div id=\"df-fc760cce-c01b-4d98-9949-f229964e679d\">\n",
              "  <button class=\"colab-df-quickchart\" onclick=\"quickchart('df-fc760cce-c01b-4d98-9949-f229964e679d')\"\n",
              "            title=\"Suggest charts\"\n",
              "            style=\"display:none;\">\n",
              "\n",
              "<svg xmlns=\"http://www.w3.org/2000/svg\" height=\"24px\"viewBox=\"0 0 24 24\"\n",
              "     width=\"24px\">\n",
              "    <g>\n",
              "        <path d=\"M19 3H5c-1.1 0-2 .9-2 2v14c0 1.1.9 2 2 2h14c1.1 0 2-.9 2-2V5c0-1.1-.9-2-2-2zM9 17H7v-7h2v7zm4 0h-2V7h2v10zm4 0h-2v-4h2v4z\"/>\n",
              "    </g>\n",
              "</svg>\n",
              "  </button>\n",
              "\n",
              "<style>\n",
              "  .colab-df-quickchart {\n",
              "      --bg-color: #E8F0FE;\n",
              "      --fill-color: #1967D2;\n",
              "      --hover-bg-color: #E2EBFA;\n",
              "      --hover-fill-color: #174EA6;\n",
              "      --disabled-fill-color: #AAA;\n",
              "      --disabled-bg-color: #DDD;\n",
              "  }\n",
              "\n",
              "  [theme=dark] .colab-df-quickchart {\n",
              "      --bg-color: #3B4455;\n",
              "      --fill-color: #D2E3FC;\n",
              "      --hover-bg-color: #434B5C;\n",
              "      --hover-fill-color: #FFFFFF;\n",
              "      --disabled-bg-color: #3B4455;\n",
              "      --disabled-fill-color: #666;\n",
              "  }\n",
              "\n",
              "  .colab-df-quickchart {\n",
              "    background-color: var(--bg-color);\n",
              "    border: none;\n",
              "    border-radius: 50%;\n",
              "    cursor: pointer;\n",
              "    display: none;\n",
              "    fill: var(--fill-color);\n",
              "    height: 32px;\n",
              "    padding: 0;\n",
              "    width: 32px;\n",
              "  }\n",
              "\n",
              "  .colab-df-quickchart:hover {\n",
              "    background-color: var(--hover-bg-color);\n",
              "    box-shadow: 0 1px 2px rgba(60, 64, 67, 0.3), 0 1px 3px 1px rgba(60, 64, 67, 0.15);\n",
              "    fill: var(--button-hover-fill-color);\n",
              "  }\n",
              "\n",
              "  .colab-df-quickchart-complete:disabled,\n",
              "  .colab-df-quickchart-complete:disabled:hover {\n",
              "    background-color: var(--disabled-bg-color);\n",
              "    fill: var(--disabled-fill-color);\n",
              "    box-shadow: none;\n",
              "  }\n",
              "\n",
              "  .colab-df-spinner {\n",
              "    border: 2px solid var(--fill-color);\n",
              "    border-color: transparent;\n",
              "    border-bottom-color: var(--fill-color);\n",
              "    animation:\n",
              "      spin 1s steps(1) infinite;\n",
              "  }\n",
              "\n",
              "  @keyframes spin {\n",
              "    0% {\n",
              "      border-color: transparent;\n",
              "      border-bottom-color: var(--fill-color);\n",
              "      border-left-color: var(--fill-color);\n",
              "    }\n",
              "    20% {\n",
              "      border-color: transparent;\n",
              "      border-left-color: var(--fill-color);\n",
              "      border-top-color: var(--fill-color);\n",
              "    }\n",
              "    30% {\n",
              "      border-color: transparent;\n",
              "      border-left-color: var(--fill-color);\n",
              "      border-top-color: var(--fill-color);\n",
              "      border-right-color: var(--fill-color);\n",
              "    }\n",
              "    40% {\n",
              "      border-color: transparent;\n",
              "      border-right-color: var(--fill-color);\n",
              "      border-top-color: var(--fill-color);\n",
              "    }\n",
              "    60% {\n",
              "      border-color: transparent;\n",
              "      border-right-color: var(--fill-color);\n",
              "    }\n",
              "    80% {\n",
              "      border-color: transparent;\n",
              "      border-right-color: var(--fill-color);\n",
              "      border-bottom-color: var(--fill-color);\n",
              "    }\n",
              "    90% {\n",
              "      border-color: transparent;\n",
              "      border-bottom-color: var(--fill-color);\n",
              "    }\n",
              "  }\n",
              "</style>\n",
              "\n",
              "  <script>\n",
              "    async function quickchart(key) {\n",
              "      const quickchartButtonEl =\n",
              "        document.querySelector('#' + key + ' button');\n",
              "      quickchartButtonEl.disabled = true;  // To prevent multiple clicks.\n",
              "      quickchartButtonEl.classList.add('colab-df-spinner');\n",
              "      try {\n",
              "        const charts = await google.colab.kernel.invokeFunction(\n",
              "            'suggestCharts', [key], {});\n",
              "      } catch (error) {\n",
              "        console.error('Error during call to suggestCharts:', error);\n",
              "      }\n",
              "      quickchartButtonEl.classList.remove('colab-df-spinner');\n",
              "      quickchartButtonEl.classList.add('colab-df-quickchart-complete');\n",
              "    }\n",
              "    (() => {\n",
              "      let quickchartButtonEl =\n",
              "        document.querySelector('#df-fc760cce-c01b-4d98-9949-f229964e679d button');\n",
              "      quickchartButtonEl.style.display =\n",
              "        google.colab.kernel.accessAllowed ? 'block' : 'none';\n",
              "    })();\n",
              "  </script>\n",
              "</div>\n",
              "\n",
              "    </div>\n",
              "  </div>\n"
            ],
            "application/vnd.google.colaboratory.intrinsic+json": {
              "type": "dataframe",
              "summary": "{\n  \"name\": \"data\",\n  \"rows\": 5,\n  \"fields\": [\n    {\n      \"column\": \"head_size\",\n      \"properties\": {\n        \"dtype\": \"number\",\n        \"std\": 0.4969909455915675,\n        \"min\": 12.5,\n        \"max\": 13.8,\n        \"num_unique_values\": 5,\n        \"samples\": [\n          12.5,\n          13.8,\n          13.0\n        ],\n        \"semantic_type\": \"\",\n        \"description\": \"\"\n      }\n    },\n    {\n      \"column\": \"fetus\",\n      \"properties\": {\n        \"dtype\": \"number\",\n        \"std\": 0.0,\n        \"min\": 3.0,\n        \"max\": 3.0,\n        \"num_unique_values\": 1,\n        \"samples\": [\n          3.0\n        ],\n        \"semantic_type\": \"\",\n        \"description\": \"\"\n      }\n    },\n    {\n      \"column\": \"observer\",\n      \"properties\": {\n        \"dtype\": \"number\",\n        \"std\": 0.5477225575051661,\n        \"min\": 3.0,\n        \"max\": 4.0,\n        \"num_unique_values\": 2,\n        \"samples\": [\n          4.0\n        ],\n        \"semantic_type\": \"\",\n        \"description\": \"\"\n      }\n    }\n  ]\n}"
            }
          },
          "metadata": {},
          "execution_count": 6
        }
      ]
    },
    {
      "cell_type": "markdown",
      "source": [
        "* 예제 데이터의 범주별 개수 확인"
      ],
      "metadata": {
        "id": "VqPRHc3OFlY0"
      }
    },
    {
      "cell_type": "code",
      "source": [
        "# 범주형변수 (fetus와 observer)의 범주별 개수 확인\n",
        "data.nunique()"
      ],
      "metadata": {
        "colab": {
          "base_uri": "https://localhost:8080/",
          "height": 178
        },
        "id": "QLYLFIxYFzIK",
        "outputId": "3e9ab4ee-8cf7-4fdf-cb3d-f44a816dec19"
      },
      "execution_count": null,
      "outputs": [
        {
          "output_type": "execute_result",
          "data": {
            "text/plain": [
              "head_size    21\n",
              "fetus         3\n",
              "observer      4\n",
              "dtype: int64"
            ],
            "text/html": [
              "<div>\n",
              "<style scoped>\n",
              "    .dataframe tbody tr th:only-of-type {\n",
              "        vertical-align: middle;\n",
              "    }\n",
              "\n",
              "    .dataframe tbody tr th {\n",
              "        vertical-align: top;\n",
              "    }\n",
              "\n",
              "    .dataframe thead th {\n",
              "        text-align: right;\n",
              "    }\n",
              "</style>\n",
              "<table border=\"1\" class=\"dataframe\">\n",
              "  <thead>\n",
              "    <tr style=\"text-align: right;\">\n",
              "      <th></th>\n",
              "      <th>0</th>\n",
              "    </tr>\n",
              "  </thead>\n",
              "  <tbody>\n",
              "    <tr>\n",
              "      <th>head_size</th>\n",
              "      <td>21</td>\n",
              "    </tr>\n",
              "    <tr>\n",
              "      <th>fetus</th>\n",
              "      <td>3</td>\n",
              "    </tr>\n",
              "    <tr>\n",
              "      <th>observer</th>\n",
              "      <td>4</td>\n",
              "    </tr>\n",
              "  </tbody>\n",
              "</table>\n",
              "</div><br><label><b>dtype:</b> int64</label>"
            ]
          },
          "metadata": {},
          "execution_count": 9
        }
      ]
    },
    {
      "cell_type": "code",
      "source": [
        "#[2] 태아별 머리 둘레 plot 만들기\n",
        "import matplotlib.pyplot as plt\n",
        "data.boxplot(column = 'head_size',by='fetus',grid=True)\n",
        "plt.title('')\n",
        "plt.show()"
      ],
      "metadata": {
        "colab": {
          "base_uri": "https://localhost:8080/",
          "height": 478
        },
        "id": "lHADVCaEGM03",
        "outputId": "6e06ac7f-1a5b-4d05-b1ee-6ffb37d7817e"
      },
      "execution_count": null,
      "outputs": [
        {
          "output_type": "display_data",
          "data": {
            "text/plain": [
              "<Figure size 640x480 with 1 Axes>"
            ],
            "image/png": "[encoded data removed]"
          },
          "metadata": {}
        }
      ]
    },
    {
      "cell_type": "code",
      "source": [
        "#[3] 태아별 머리 둘레 평균을 구하기\n",
        "data.groupby('fetus')['head_size'].mean()"
      ],
      "metadata": {
        "colab": {
          "base_uri": "https://localhost:8080/",
          "height": 209
        },
        "id": "t-JpUTOJGewj",
        "outputId": "6fcb083e-5370-4c4c-e0a1-fdc81ee25082"
      },
      "execution_count": null,
      "outputs": [
        {
          "output_type": "execute_result",
          "data": {
            "text/plain": [
              "fetus\n",
              "1.0    13.991667\n",
              "2.0    19.691667\n",
              "3.0    12.825000\n",
              "Name: head_size, dtype: float64"
            ],
            "text/html": [
              "<div>\n",
              "<style scoped>\n",
              "    .dataframe tbody tr th:only-of-type {\n",
              "        vertical-align: middle;\n",
              "    }\n",
              "\n",
              "    .dataframe tbody tr th {\n",
              "        vertical-align: top;\n",
              "    }\n",
              "\n",
              "    .dataframe thead th {\n",
              "        text-align: right;\n",
              "    }\n",
              "</style>\n",
              "<table border=\"1\" class=\"dataframe\">\n",
              "  <thead>\n",
              "    <tr style=\"text-align: right;\">\n",
              "      <th></th>\n",
              "      <th>head_size</th>\n",
              "    </tr>\n",
              "    <tr>\n",
              "      <th>fetus</th>\n",
              "      <th></th>\n",
              "    </tr>\n",
              "  </thead>\n",
              "  <tbody>\n",
              "    <tr>\n",
              "      <th>1.0</th>\n",
              "      <td>13.991667</td>\n",
              "    </tr>\n",
              "    <tr>\n",
              "      <th>2.0</th>\n",
              "      <td>19.691667</td>\n",
              "    </tr>\n",
              "    <tr>\n",
              "      <th>3.0</th>\n",
              "      <td>12.825000</td>\n",
              "    </tr>\n",
              "  </tbody>\n",
              "</table>\n",
              "</div><br><label><b>dtype:</b> float64</label>"
            ]
          },
          "metadata": {},
          "execution_count": 16
        }
      ]
    },
    {
      "cell_type": "markdown",
      "source": [
        "* 앞의 그림을 보면\n",
        "  * 그림에서 태아(fetus) 3명의 머리 둘레는 차이가 있어 보임\n",
        "  * 관측자와 태아에 상호작용 효과 여부를 Two way ANOVA를 통해 알아볼 수 있음\n",
        "\n",
        "* 3셋트의 귀무가설/대립가설\n",
        "  * 귀무가설 : 측정자별 머리둘레 평균은 동일하다\n",
        "  * 대립가설 : 측정자별 머리둘레 평균은 동일하지 않다 (차이가 있다)\n",
        "  * 귀무가설 : 태아별 머리둘레 평균은 동일하다\n",
        "  * 대립가설 : 태아별 머리둘레 평균은 동일하지 않다 (차이가 있다)\n",
        "  * 귀무가설 : 머리둘레평균에 대해 측정자와 태아에 상호작용 효과가 없다 (독립이다,영향을 주지 않는다)\n",
        "  * 대립가설 : 머리둘레평균에 대해 측정자와 태아에 상호작용 효과가 있다 (독립이 아니다, 영향을 준다)"
      ],
      "metadata": {
        "id": "5kB2S9MLH1GM"
      }
    },
    {
      "cell_type": "code",
      "source": [
        "#[4] 이원분산분석\n",
        "from statsmodels.formula.api import ols\n",
        "from statsmodels.api import OLS\n",
        "from statsmodels.stats.anova import anova_lm\n",
        "\n",
        "#[1] 분산 분석표 반환 - 교호작용 불포함\n",
        "model1 = ols('head_size ~ C(fetus) + C(observer)',data).fit()\n",
        "model2 = OLS.from_formula('head_size ~ C(fetus) + C(observer)',data).fit()\n",
        "result1 = anova_lm(model1)\n",
        "result2 = anova_lm(model2)\n",
        "print(result1,result2,sep='\\n')"
      ],
      "metadata": {
        "colab": {
          "base_uri": "https://localhost:8080/"
        },
        "id": "bZdcLu2nIpRP",
        "outputId": "c15398c0-f7f3-46a2-d629-e92c92e4766b"
      },
      "execution_count": null,
      "outputs": [
        {
          "output_type": "stream",
          "name": "stdout",
          "text": [
            "               df      sum_sq     mean_sq            F        PR(>F)\n",
            "C(fetus)      2.0  324.008889  162.004444  2023.182239  1.006291e-32\n",
            "C(observer)   3.0    1.198611    0.399537     4.989593  6.316641e-03\n",
            "Residual     30.0    2.402222    0.080074          NaN           NaN\n",
            "               df      sum_sq     mean_sq            F        PR(>F)\n",
            "C(fetus)      2.0  324.008889  162.004444  2023.182239  1.006291e-32\n",
            "C(observer)   3.0    1.198611    0.399537     4.989593  6.316641e-03\n",
            "Residual     30.0    2.402222    0.080074          NaN           NaN\n"
          ]
        }
      ]
    },
    {
      "cell_type": "code",
      "source": [
        "#[1] 분산 분석표 반환 - 교호작용 포함(독립변수끼리 서로 영향을 미치는지, 상호작용)\n",
        "model = ols('head_size ~ C(fetus)+C(observer)+C(fetus):C(observer)',data).fit()\n",
        "result = anova_lm(model)\n",
        "print(result)"
      ],
      "metadata": {
        "colab": {
          "base_uri": "https://localhost:8080/"
        },
        "id": "y9q7ZzcZPa3w",
        "outputId": "b21968fc-3fb8-49a8-c2f1-9e8e0ad73bd6"
      },
      "execution_count": null,
      "outputs": [
        {
          "output_type": "stream",
          "name": "stdout",
          "text": [
            "                        df      sum_sq     mean_sq            F        PR(>F)\n",
            "C(fetus)               2.0  324.008889  162.004444  2113.101449  1.051039e-27\n",
            "C(observer)            3.0    1.198611    0.399537     5.211353  6.497055e-03\n",
            "C(fetus):C(observer)   6.0    0.562222    0.093704     1.222222  3.295509e-01\n",
            "Residual              24.0    1.840000    0.076667          NaN           NaN\n"
          ]
        }
      ]
    },
    {
      "cell_type": "code",
      "source": [
        "# [2] 결정계수\n",
        "# r2 = SSR/SST\n",
        "print(type(result))\n",
        "SST = result['sum_sq'].sum()\n",
        "SSE = result.loc['Residual','sum_sq']\n",
        "SSR = SST-SSE\n",
        "r2 = SSR/SST\n",
        "print(round(r2,4),round(1-SSE/SST,4))\n",
        "\n",
        "# [3] mse\n",
        "mse = result.loc['Residual','mean_sq']\n",
        "print(round(mse,4))"
      ],
      "metadata": {
        "colab": {
          "base_uri": "https://localhost:8080/"
        },
        "id": "9gh1YMc7QvW4",
        "outputId": "3e2089c8-8680-402d-b9d9-141a02a9d55e"
      },
      "execution_count": null,
      "outputs": [
        {
          "output_type": "stream",
          "name": "stdout",
          "text": [
            "<class 'pandas.core.frame.DataFrame'>\n",
            "0.9944 0.9944\n",
            "0.0767\n"
          ]
        }
      ]
    },
    {
      "cell_type": "markdown",
      "source": [
        "* C(fetus):C(observer)의 p-value가 0.05이상 입니다\n",
        "* 따라서 귀무가설을 기각할 수 없고,\n",
        "머리둘레평균에 대해 측정자와 태아에 상호작용 효과가 없다."
      ],
      "metadata": {
        "id": "lXpALL__R5WF"
      }
    }
  ]
}