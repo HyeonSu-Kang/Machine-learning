{
  "nbformat": 4,
  "nbformat_minor": 0,
  "metadata": {
    "colab": {
      "provenance": [],
      "authorship_tag": "ABX9TyNEXp3WJXI+LavhtxwgligL"
    },
    "kernelspec": {
      "name": "python3",
      "display_name": "Python 3"
    },
    "language_info": {
      "name": "python"
    }
  },
  "cells": [
    {
      "cell_type": "markdown",
      "source": [
        "# 등분산성"
      ],
      "metadata": {
        "id": "5rYq1KfsfGSP"
      }
    },
    {
      "cell_type": "markdown",
      "source": [
        "## 1.등분산성 감정\n",
        "\n",
        "> 인용구 추가\n",
        "\n",
        "\n"
      ],
      "metadata": {
        "id": "r0Pf_JKyfJjW"
      }
    },
    {
      "cell_type": "markdown",
      "source": [
        "* 등분산성 감정 (Test for equal-variance)\n",
        "  * cipy의 stats에서 이를 위한 bartlett-killen, levene, fligner 등이 있음\n",
        "  * 둘 이상의 정규성을 만족하는 데이터 집합에 대해 모분산이 같은 지 확인하기 위한 검정에는 bartlett 사용\n",
        "  * 정규성을 만족하지 않는 경우 levene, fligner를 사용함\n",
        "\n",
        "* 등분산성 검저의 가설\n",
        " * 귀무가설(H0) : 데이터셋이 등분산성을 충족한다\n",
        " * 대립가설(H1) : 데이터셋이 등분산성을 충족하지 앟ㄴ는다\n",
        "\n",
        " * 귀무가설이 채택되는 경우 등분산성을 갖는다\n",
        " p-vlaue > 유의수준,검정통계량 < 임계값\n",
        "\n",
        "* 등분산성 검정의 종류\n",
        "  * Bartlett Killen Test\n",
        "    * 정규성을 충족하는, 데이터셋의 크기가 서로 다른 2개 이상의 집단 사용 가능\n",
        "  * Levene Test\n",
        "    * 정규성을 충족하지 않는 비모수 데이터 사용 가능(중앙을 median으로 설정)\n",
        "    * 2개 이상의 집단 사용 가능\n",
        "  * Fligner Test\n",
        "    * Levene Test와 동일한 특성, 비모수 데이터에 더 강건하게 검정 할 수 있음"
      ],
      "metadata": {
        "id": "ImnojUbRfVCo"
      }
    },
    {
      "cell_type": "markdown",
      "source": [
        "## 2.등분산성 검정을 위한 함수\n"
      ],
      "metadata": {
        "id": "oh48kA5Yl5Ev"
      }
    },
    {
      "cell_type": "markdown",
      "source": [
        "* 등분산성 검정을 위한 객체 함수\n",
        "  * 객체 생성 함수 import\n",
        "    * from scipy.stats import bartlett,levene,fligner\n",
        "\n",
        "  * Bartlett Killen Test\n",
        "    * bartlett(*samples) -> statistic,p-value\n",
        "  \n",
        "  * Levene Test\n",
        "    * levene(*samples, center=\"median\", proportiontocut=0.05)\n",
        "      * statistic, p-valuecenter={'median', 'mean', 'trimmed'}, proportiontocut은 center=\"trimmed'\" 일 경우 사용 https://docs.scipy.org/doc/scipy/reference/generated/scipy.stats.levene.html\n",
        "    \n",
        "  * Fligner Test\n",
        "    * fligner(*samples, center='median\", proportiontocut=0.05) → statistic, p-value\n",
        "    https://docs.scipy.org/doc/scipy/reference/generated/scipy.stats.fligner.html\n",
        "\n",
        "* center 지정\n",
        "  * 'median' : Recommended for skewed (non-normal) distributions.\n",
        "  * 'mean' : Recommended for symmetric, moderate-tailed distributions.\n",
        "  * 'trimmed : Recommended for heavy-tailed distributions."
      ],
      "metadata": {
        "id": "B_jsEwJCl83X"
      }
    },
    {
      "cell_type": "markdown",
      "source": [
        "## 3.등분산 검정의 예"
      ],
      "metadata": {
        "id": "N9BHneEpmiX4"
      }
    },
    {
      "cell_type": "markdown",
      "source": [
        "### 3-1. iris 데이터"
      ],
      "metadata": {
        "id": "ddHKm4QvxjSR"
      }
    },
    {
      "cell_type": "code",
      "execution_count": null,
      "metadata": {
        "id": "wQ9isR-NUcTC",
        "colab": {
          "base_uri": "https://localhost:8080/"
        },
        "outputId": "df8ebbd5-e66b-4907-cd9b-2e247b192d14"
      },
      "outputs": [
        {
          "output_type": "stream",
          "name": "stdout",
          "text": [
            "   sepal_length  sepal_width  petal_length  petal_width species\n",
            "0           5.1          3.5           1.4          0.2  setosa\n",
            "1           4.9          3.0           1.4          0.2  setosa\n",
            "['setosa' 'versicolor' 'virginica']\n"
          ]
        }
      ],
      "source": [
        "# 파일 읽어와 내용 확인\n",
        "import seaborn as sns\n",
        "iris = sns.load_dataset('iris')\n",
        "print(iris.head(2))\n",
        "print(iris['species'].unique())"
      ]
    },
    {
      "cell_type": "code",
      "source": [
        "# [1] target = 'sepal_length', 폼종별 그룹을 나누어 저장함\n",
        "import pandas as pd\n",
        "target = 'sepal_length'\n",
        "iris['species'].unique()\n",
        "\n",
        "gA = iris.loc[iris['species']=='setosa',target].to_list()\n",
        "gB = iris.loc[iris['species']=='versicolor',target].to_list()\n",
        "gC = iris.loc[iris['species']=='virginica',target].to_list()\n",
        "print(gA)\n",
        "\n",
        "# p-value > 0.05 이므로 귀무가설을 채택하게 되고,등분산성을 충족한다"
      ],
      "metadata": {
        "colab": {
          "base_uri": "https://localhost:8080/"
        },
        "id": "JohPpXM4p_Ob",
        "outputId": "bf390aad-64ab-434d-84b1-a74e51ff4492"
      },
      "execution_count": null,
      "outputs": [
        {
          "output_type": "stream",
          "name": "stdout",
          "text": [
            "[5.1, 4.9, 4.7, 4.6, 5.0, 5.4, 4.6, 5.0, 4.4, 4.9, 5.4, 4.8, 4.8, 4.3, 5.8, 5.7, 5.4, 5.1, 5.7, 5.1, 5.4, 5.1, 4.6, 5.1, 4.8, 5.0, 5.0, 5.2, 5.2, 4.7, 4.8, 5.4, 5.2, 5.5, 4.9, 5.0, 5.5, 4.9, 4.4, 5.1, 5.0, 4.5, 4.4, 5.0, 5.1, 4.8, 5.1, 4.6, 5.3, 5.0]\n"
          ]
        }
      ]
    },
    {
      "cell_type": "code",
      "source": [
        "groups = [x.to_list() for name, x in iris.groupby('species')[target]]\n",
        "#print(groups)\n",
        "gA,gB,gC = groups\n",
        "print(gA)"
      ],
      "metadata": {
        "colab": {
          "base_uri": "https://localhost:8080/"
        },
        "id": "yMVyarh0pgj5",
        "outputId": "eeb2ce8d-01ec-4ac1-aace-232894076008"
      },
      "execution_count": null,
      "outputs": [
        {
          "output_type": "stream",
          "name": "stdout",
          "text": [
            "[5.1, 4.9, 4.7, 4.6, 5.0, 5.4, 4.6, 5.0, 4.4, 4.9, 5.4, 4.8, 4.8, 4.3, 5.8, 5.7, 5.4, 5.1, 5.7, 5.1, 5.4, 5.1, 4.6, 5.1, 4.8, 5.0, 5.0, 5.2, 5.2, 4.7, 4.8, 5.4, 5.2, 5.5, 4.9, 5.0, 5.5, 4.9, 4.4, 5.1, 5.0, 4.5, 4.4, 5.0, 5.1, 4.8, 5.1, 4.6, 5.3, 5.0]\n"
          ]
        }
      ]
    },
    {
      "cell_type": "code",
      "source": [
        "#[2] burtlett 검정\n",
        "from scipy.stats import bartlett,shapiro\n",
        "\n",
        "# 정규성 검정\n",
        "_, pvalueA = shapiro(gA)\n",
        "_, pvalueB = shapiro(gB)\n",
        "_, pvalueC = shapiro(gC)\n",
        "print(pvalueA,pvalueB,pvalueC)\n",
        "#이 코드에서는 검정 통계량은 필요하지 않고, 오직 p-value만 필요하기 때문에, 사용하지 않는 값에 대해 **_**를 사용하여 \"무시\"하는 것입니다.\n",
        "\n",
        "# p-value 해석:\n",
        "# 일반적으로 p-value가 0.05 이상이면, 데이터가 정규 분포를 따른다고 판단합니다.\n",
        "# p-valueA = 0.4595, p-valueB = 0.4647, p-valueC = 0.2583 모두 0.05 이상이므로,\n",
        "# gA, gB, gC 데이터는 모두 정규 분포를 따른다고 결론 내릴 수 있습니다.\n",
        "\n",
        "# 등분산성 검정\n",
        "statistic,pvalue = bartlett(gA,gB,gC)\n",
        "print(statistic,pvalue)\n",
        "# 귀무가설 기각 - 등분산성을 만족하지 않음"
      ],
      "metadata": {
        "colab": {
          "base_uri": "https://localhost:8080/"
        },
        "id": "CkV12HP-ruvI",
        "outputId": "97b06f09-39aa-4f42-c45c-431439271c6b"
      },
      "execution_count": null,
      "outputs": [
        {
          "output_type": "stream",
          "name": "stdout",
          "text": [
            "0.4595131499174534 0.4647370359250263 0.25831474614079086\n",
            "16.005701874401502 0.0003345076070163035\n"
          ]
        }
      ]
    },
    {
      "cell_type": "code",
      "source": [
        "#[3] levene의 center는 'mean'으로 지정\n",
        "from scipy.stats import levene\n",
        "statistic,pvalue = levene(*groups,center='mean')\n",
        "print(statistic,pvalue)\n",
        "# 귀무가설 기각  - 등분산성을 만족하지 않음\n",
        "\n",
        "# [4] fligner의 center는 'trimmed'.proportiontocut=5% 지정\n",
        "from scipy.stats import fligner\n",
        "statistic,pvalue = fligner( *groups,center = 'trimmed',\n",
        "                           proportiontocut=0.05)\n",
        "print(statistic,pvalue)\n",
        "# 귀무가설 기각 - 등분산성 만족하지 않음"
      ],
      "metadata": {
        "colab": {
          "base_uri": "https://localhost:8080/"
        },
        "id": "OR5CIRLtuPJu",
        "outputId": "d580f332-2173-41ff-906b-e9aa246c8d18"
      },
      "execution_count": null,
      "outputs": [
        {
          "output_type": "stream",
          "name": "stdout",
          "text": [
            "7.381091747801267 0.0008817887814641548\n",
            "13.193438547424174 0.0013648383616752843\n"
          ]
        }
      ]
    },
    {
      "cell_type": "markdown",
      "source": [
        "### 3.2 tips 데이터\n"
      ],
      "metadata": {
        "id": "MELjWEYExnv0"
      }
    },
    {
      "cell_type": "code",
      "source": [
        "import seaborn as sns\n",
        "tip3 = sns.load_dataset('tips')\n",
        "tip3.head(3)"
      ],
      "metadata": {
        "colab": {
          "base_uri": "https://localhost:8080/",
          "height": 143
        },
        "id": "Tt70vvSEuPM4",
        "outputId": "37dc0b02-bfc3-4e19-de45-b7f8015ad70c"
      },
      "execution_count": null,
      "outputs": [
        {
          "output_type": "execute_result",
          "data": {
            "text/plain": [
              "   total_bill   tip     sex smoker  day    time  size\n",
              "0       16.99  1.01  Female     No  Sun  Dinner     2\n",
              "1       10.34  1.66    Male     No  Sun  Dinner     3\n",
              "2       21.01  3.50    Male     No  Sun  Dinner     3"
            ],
            "text/html": [
              "\n",
              "  <div id=\"df-b2a0a8cc-608f-4ea5-89f0-51fbbadd7675\" class=\"colab-df-container\">\n",
              "    <div>\n",
              "<style scoped>\n",
              "    .dataframe tbody tr th:only-of-type {\n",
              "        vertical-align: middle;\n",
              "    }\n",
              "\n",
              "    .dataframe tbody tr th {\n",
              "        vertical-align: top;\n",
              "    }\n",
              "\n",
              "    .dataframe thead th {\n",
              "        text-align: right;\n",
              "    }\n",
              "</style>\n",
              "<table border=\"1\" class=\"dataframe\">\n",
              "  <thead>\n",
              "    <tr style=\"text-align: right;\">\n",
              "      <th></th>\n",
              "      <th>total_bill</th>\n",
              "      <th>tip</th>\n",
              "      <th>sex</th>\n",
              "      <th>smoker</th>\n",
              "      <th>day</th>\n",
              "      <th>time</th>\n",
              "      <th>size</th>\n",
              "    </tr>\n",
              "  </thead>\n",
              "  <tbody>\n",
              "    <tr>\n",
              "      <th>0</th>\n",
              "      <td>16.99</td>\n",
              "      <td>1.01</td>\n",
              "      <td>Female</td>\n",
              "      <td>No</td>\n",
              "      <td>Sun</td>\n",
              "      <td>Dinner</td>\n",
              "      <td>2</td>\n",
              "    </tr>\n",
              "    <tr>\n",
              "      <th>1</th>\n",
              "      <td>10.34</td>\n",
              "      <td>1.66</td>\n",
              "      <td>Male</td>\n",
              "      <td>No</td>\n",
              "      <td>Sun</td>\n",
              "      <td>Dinner</td>\n",
              "      <td>3</td>\n",
              "    </tr>\n",
              "    <tr>\n",
              "      <th>2</th>\n",
              "      <td>21.01</td>\n",
              "      <td>3.50</td>\n",
              "      <td>Male</td>\n",
              "      <td>No</td>\n",
              "      <td>Sun</td>\n",
              "      <td>Dinner</td>\n",
              "      <td>3</td>\n",
              "    </tr>\n",
              "  </tbody>\n",
              "</table>\n",
              "</div>\n",
              "    <div class=\"colab-df-buttons\">\n",
              "\n",
              "  <div class=\"colab-df-container\">\n",
              "    <button class=\"colab-df-convert\" onclick=\"convertToInteractive('df-b2a0a8cc-608f-4ea5-89f0-51fbbadd7675')\"\n",
              "            title=\"Convert this dataframe to an interactive table.\"\n",
              "            style=\"display:none;\">\n",
              "\n",
              "  <svg xmlns=\"http://www.w3.org/2000/svg\" height=\"24px\" viewBox=\"0 -960 960 960\">\n",
              "    <path d=\"M120-120v-720h720v720H120Zm60-500h600v-160H180v160Zm220 220h160v-160H400v160Zm0 220h160v-160H400v160ZM180-400h160v-160H180v160Zm440 0h160v-160H620v160ZM180-180h160v-160H180v160Zm440 0h160v-160H620v160Z\"/>\n",
              "  </svg>\n",
              "    </button>\n",
              "\n",
              "  <style>\n",
              "    .colab-df-container {\n",
              "      display:flex;\n",
              "      gap: 12px;\n",
              "    }\n",
              "\n",
              "    .colab-df-convert {\n",
              "      background-color: #E8F0FE;\n",
              "      border: none;\n",
              "      border-radius: 50%;\n",
              "      cursor: pointer;\n",
              "      display: none;\n",
              "      fill: #1967D2;\n",
              "      height: 32px;\n",
              "      padding: 0 0 0 0;\n",
              "      width: 32px;\n",
              "    }\n",
              "\n",
              "    .colab-df-convert:hover {\n",
              "      background-color: #E2EBFA;\n",
              "      box-shadow: 0px 1px 2px rgba(60, 64, 67, 0.3), 0px 1px 3px 1px rgba(60, 64, 67, 0.15);\n",
              "      fill: #174EA6;\n",
              "    }\n",
              "\n",
              "    .colab-df-buttons div {\n",
              "      margin-bottom: 4px;\n",
              "    }\n",
              "\n",
              "    [theme=dark] .colab-df-convert {\n",
              "      background-color: #3B4455;\n",
              "      fill: #D2E3FC;\n",
              "    }\n",
              "\n",
              "    [theme=dark] .colab-df-convert:hover {\n",
              "      background-color: #434B5C;\n",
              "      box-shadow: 0px 1px 3px 1px rgba(0, 0, 0, 0.15);\n",
              "      filter: drop-shadow(0px 1px 2px rgba(0, 0, 0, 0.3));\n",
              "      fill: #FFFFFF;\n",
              "    }\n",
              "  </style>\n",
              "\n",
              "    <script>\n",
              "      const buttonEl =\n",
              "        document.querySelector('#df-b2a0a8cc-608f-4ea5-89f0-51fbbadd7675 button.colab-df-convert');\n",
              "      buttonEl.style.display =\n",
              "        google.colab.kernel.accessAllowed ? 'block' : 'none';\n",
              "\n",
              "      async function convertToInteractive(key) {\n",
              "        const element = document.querySelector('#df-b2a0a8cc-608f-4ea5-89f0-51fbbadd7675');\n",
              "        const dataTable =\n",
              "          await google.colab.kernel.invokeFunction('convertToInteractive',\n",
              "                                                    [key], {});\n",
              "        if (!dataTable) return;\n",
              "\n",
              "        const docLinkHtml = 'Like what you see? Visit the ' +\n",
              "          '<a target=\"_blank\" href=https://colab.research.google.com/notebooks/data_table.ipynb>data table notebook</a>'\n",
              "          + ' to learn more about interactive tables.';\n",
              "        element.innerHTML = '';\n",
              "        dataTable['output_type'] = 'display_data';\n",
              "        await google.colab.output.renderOutput(dataTable, element);\n",
              "        const docLink = document.createElement('div');\n",
              "        docLink.innerHTML = docLinkHtml;\n",
              "        element.appendChild(docLink);\n",
              "      }\n",
              "    </script>\n",
              "  </div>\n",
              "\n",
              "\n",
              "<div id=\"df-0007e269-9696-46e9-8a29-7cba4ad41c5b\">\n",
              "  <button class=\"colab-df-quickchart\" onclick=\"quickchart('df-0007e269-9696-46e9-8a29-7cba4ad41c5b')\"\n",
              "            title=\"Suggest charts\"\n",
              "            style=\"display:none;\">\n",
              "\n",
              "<svg xmlns=\"http://www.w3.org/2000/svg\" height=\"24px\"viewBox=\"0 0 24 24\"\n",
              "     width=\"24px\">\n",
              "    <g>\n",
              "        <path d=\"M19 3H5c-1.1 0-2 .9-2 2v14c0 1.1.9 2 2 2h14c1.1 0 2-.9 2-2V5c0-1.1-.9-2-2-2zM9 17H7v-7h2v7zm4 0h-2V7h2v10zm4 0h-2v-4h2v4z\"/>\n",
              "    </g>\n",
              "</svg>\n",
              "  </button>\n",
              "\n",
              "<style>\n",
              "  .colab-df-quickchart {\n",
              "      --bg-color: #E8F0FE;\n",
              "      --fill-color: #1967D2;\n",
              "      --hover-bg-color: #E2EBFA;\n",
              "      --hover-fill-color: #174EA6;\n",
              "      --disabled-fill-color: #AAA;\n",
              "      --disabled-bg-color: #DDD;\n",
              "  }\n",
              "\n",
              "  [theme=dark] .colab-df-quickchart {\n",
              "      --bg-color: #3B4455;\n",
              "      --fill-color: #D2E3FC;\n",
              "      --hover-bg-color: #434B5C;\n",
              "      --hover-fill-color: #FFFFFF;\n",
              "      --disabled-bg-color: #3B4455;\n",
              "      --disabled-fill-color: #666;\n",
              "  }\n",
              "\n",
              "  .colab-df-quickchart {\n",
              "    background-color: var(--bg-color);\n",
              "    border: none;\n",
              "    border-radius: 50%;\n",
              "    cursor: pointer;\n",
              "    display: none;\n",
              "    fill: var(--fill-color);\n",
              "    height: 32px;\n",
              "    padding: 0;\n",
              "    width: 32px;\n",
              "  }\n",
              "\n",
              "  .colab-df-quickchart:hover {\n",
              "    background-color: var(--hover-bg-color);\n",
              "    box-shadow: 0 1px 2px rgba(60, 64, 67, 0.3), 0 1px 3px 1px rgba(60, 64, 67, 0.15);\n",
              "    fill: var(--button-hover-fill-color);\n",
              "  }\n",
              "\n",
              "  .colab-df-quickchart-complete:disabled,\n",
              "  .colab-df-quickchart-complete:disabled:hover {\n",
              "    background-color: var(--disabled-bg-color);\n",
              "    fill: var(--disabled-fill-color);\n",
              "    box-shadow: none;\n",
              "  }\n",
              "\n",
              "  .colab-df-spinner {\n",
              "    border: 2px solid var(--fill-color);\n",
              "    border-color: transparent;\n",
              "    border-bottom-color: var(--fill-color);\n",
              "    animation:\n",
              "      spin 1s steps(1) infinite;\n",
              "  }\n",
              "\n",
              "  @keyframes spin {\n",
              "    0% {\n",
              "      border-color: transparent;\n",
              "      border-bottom-color: var(--fill-color);\n",
              "      border-left-color: var(--fill-color);\n",
              "    }\n",
              "    20% {\n",
              "      border-color: transparent;\n",
              "      border-left-color: var(--fill-color);\n",
              "      border-top-color: var(--fill-color);\n",
              "    }\n",
              "    30% {\n",
              "      border-color: transparent;\n",
              "      border-left-color: var(--fill-color);\n",
              "      border-top-color: var(--fill-color);\n",
              "      border-right-color: var(--fill-color);\n",
              "    }\n",
              "    40% {\n",
              "      border-color: transparent;\n",
              "      border-right-color: var(--fill-color);\n",
              "      border-top-color: var(--fill-color);\n",
              "    }\n",
              "    60% {\n",
              "      border-color: transparent;\n",
              "      border-right-color: var(--fill-color);\n",
              "    }\n",
              "    80% {\n",
              "      border-color: transparent;\n",
              "      border-right-color: var(--fill-color);\n",
              "      border-bottom-color: var(--fill-color);\n",
              "    }\n",
              "    90% {\n",
              "      border-color: transparent;\n",
              "      border-bottom-color: var(--fill-color);\n",
              "    }\n",
              "  }\n",
              "</style>\n",
              "\n",
              "  <script>\n",
              "    async function quickchart(key) {\n",
              "      const quickchartButtonEl =\n",
              "        document.querySelector('#' + key + ' button');\n",
              "      quickchartButtonEl.disabled = true;  // To prevent multiple clicks.\n",
              "      quickchartButtonEl.classList.add('colab-df-spinner');\n",
              "      try {\n",
              "        const charts = await google.colab.kernel.invokeFunction(\n",
              "            'suggestCharts', [key], {});\n",
              "      } catch (error) {\n",
              "        console.error('Error during call to suggestCharts:', error);\n",
              "      }\n",
              "      quickchartButtonEl.classList.remove('colab-df-spinner');\n",
              "      quickchartButtonEl.classList.add('colab-df-quickchart-complete');\n",
              "    }\n",
              "    (() => {\n",
              "      let quickchartButtonEl =\n",
              "        document.querySelector('#df-0007e269-9696-46e9-8a29-7cba4ad41c5b button');\n",
              "      quickchartButtonEl.style.display =\n",
              "        google.colab.kernel.accessAllowed ? 'block' : 'none';\n",
              "    })();\n",
              "  </script>\n",
              "</div>\n",
              "\n",
              "    </div>\n",
              "  </div>\n"
            ],
            "application/vnd.google.colaboratory.intrinsic+json": {
              "type": "dataframe",
              "variable_name": "tip3",
              "summary": "{\n  \"name\": \"tip3\",\n  \"rows\": 244,\n  \"fields\": [\n    {\n      \"column\": \"total_bill\",\n      \"properties\": {\n        \"dtype\": \"number\",\n        \"std\": 8.902411954856856,\n        \"min\": 3.07,\n        \"max\": 50.81,\n        \"num_unique_values\": 229,\n        \"samples\": [\n          22.12,\n          20.23,\n          14.78\n        ],\n        \"semantic_type\": \"\",\n        \"description\": \"\"\n      }\n    },\n    {\n      \"column\": \"tip\",\n      \"properties\": {\n        \"dtype\": \"number\",\n        \"std\": 1.3836381890011826,\n        \"min\": 1.0,\n        \"max\": 10.0,\n        \"num_unique_values\": 123,\n        \"samples\": [\n          3.35,\n          1.5,\n          6.73\n        ],\n        \"semantic_type\": \"\",\n        \"description\": \"\"\n      }\n    },\n    {\n      \"column\": \"sex\",\n      \"properties\": {\n        \"dtype\": \"category\",\n        \"num_unique_values\": 2,\n        \"samples\": [\n          \"Male\",\n          \"Female\"\n        ],\n        \"semantic_type\": \"\",\n        \"description\": \"\"\n      }\n    },\n    {\n      \"column\": \"smoker\",\n      \"properties\": {\n        \"dtype\": \"category\",\n        \"num_unique_values\": 2,\n        \"samples\": [\n          \"Yes\",\n          \"No\"\n        ],\n        \"semantic_type\": \"\",\n        \"description\": \"\"\n      }\n    },\n    {\n      \"column\": \"day\",\n      \"properties\": {\n        \"dtype\": \"category\",\n        \"num_unique_values\": 4,\n        \"samples\": [\n          \"Sat\",\n          \"Fri\"\n        ],\n        \"semantic_type\": \"\",\n        \"description\": \"\"\n      }\n    },\n    {\n      \"column\": \"time\",\n      \"properties\": {\n        \"dtype\": \"category\",\n        \"num_unique_values\": 2,\n        \"samples\": [\n          \"Lunch\",\n          \"Dinner\"\n        ],\n        \"semantic_type\": \"\",\n        \"description\": \"\"\n      }\n    },\n    {\n      \"column\": \"size\",\n      \"properties\": {\n        \"dtype\": \"number\",\n        \"std\": 0,\n        \"min\": 1,\n        \"max\": 6,\n        \"num_unique_values\": 6,\n        \"samples\": [\n          2,\n          3\n        ],\n        \"semantic_type\": \"\",\n        \"description\": \"\"\n      }\n    }\n  ]\n}"
            }
          },
          "metadata": {},
          "execution_count": 47
        }
      ]
    },
    {
      "cell_type": "code",
      "source": [
        "#[1] target = 'total_bill', 요일별 그룹을 나누어 저장함\n",
        "import pandas as pd\n",
        "target = 'total_bill'\n",
        "#target = tip3['total_bill']\n",
        "groups = [x.to_list() for _, x in tip3.groupby('day')[target]]\n",
        "gA,gB,gC,gD = groups\n",
        "print(groups)"
      ],
      "metadata": {
        "colab": {
          "base_uri": "https://localhost:8080/"
        },
        "id": "VkQF7eBO2iuK",
        "outputId": "4954a38a-fef3-4ce9-b540-3ad9b87c70b6"
      },
      "execution_count": null,
      "outputs": [
        {
          "output_type": "stream",
          "name": "stdout",
          "text": [
            "[[27.2, 22.76, 17.29, 19.44, 16.66, 10.07, 32.68, 15.98, 34.83, 13.03, 18.28, 24.71, 21.16, 10.65, 12.43, 24.08, 11.69, 13.42, 14.26, 15.95, 12.48, 29.8, 8.52, 14.52, 11.38, 22.82, 19.08, 20.27, 11.17, 12.26, 18.26, 8.51, 10.33, 14.15, 16.0, 13.16, 17.47, 34.3, 41.19, 27.05, 16.43, 8.35, 18.64, 11.87, 9.78, 7.51, 19.81, 28.44, 15.48, 16.58, 7.56, 10.34, 43.11, 13.0, 13.51, 18.71, 12.74, 13.0, 16.4, 20.53, 16.47, 18.78], [28.97, 22.49, 5.75, 16.32, 22.75, 40.17, 27.28, 12.03, 21.01, 12.46, 11.35, 15.38, 12.16, 13.42, 8.58, 15.98, 13.42, 16.27, 10.09], [20.65, 17.92, 20.29, 15.77, 39.42, 19.82, 17.81, 13.37, 12.69, 21.7, 19.65, 9.55, 18.35, 15.06, 20.69, 17.78, 24.06, 16.31, 16.93, 18.69, 31.27, 16.04, 38.01, 26.41, 11.24, 48.27, 20.29, 13.81, 11.02, 18.29, 17.59, 20.08, 16.45, 3.07, 20.23, 15.01, 12.02, 17.07, 26.86, 25.28, 14.73, 10.51, 17.92, 44.3, 22.42, 20.92, 15.36, 20.49, 25.21, 18.24, 14.31, 14.0, 7.25, 10.59, 10.63, 50.81, 15.81, 26.59, 38.73, 24.27, 12.76, 30.06, 25.89, 48.33, 13.27, 28.17, 12.9, 28.15, 11.59, 7.74, 30.14, 20.45, 13.28, 22.12, 24.01, 15.69, 11.61, 10.77, 15.53, 10.07, 12.6, 32.83, 35.83, 29.03, 27.18, 22.67, 17.82], [16.99, 10.34, 21.01, 23.68, 24.59, 25.29, 8.77, 26.88, 15.04, 14.78, 10.27, 35.26, 15.42, 18.43, 14.83, 21.58, 10.33, 16.29, 16.97, 17.46, 13.94, 9.68, 30.4, 18.29, 22.23, 32.4, 28.55, 18.04, 12.54, 10.29, 34.81, 9.94, 25.56, 19.49, 38.07, 23.95, 25.71, 17.31, 29.93, 14.07, 13.13, 17.26, 24.55, 19.77, 29.85, 48.17, 25.0, 13.39, 16.49, 21.5, 12.66, 16.21, 13.81, 17.51, 24.52, 20.76, 31.71, 7.25, 31.85, 16.82, 32.9, 17.89, 14.48, 9.6, 34.63, 34.65, 23.33, 45.35, 23.17, 40.55, 20.69, 20.9, 30.46, 18.15, 23.1, 15.69]]\n"
          ]
        },
        {
          "output_type": "stream",
          "name": "stderr",
          "text": [
            "<ipython-input-58-61fd2eee0ca6>:5: FutureWarning: The default of observed=False is deprecated and will be changed to True in a future version of pandas. Pass observed=False to retain current behavior or observed=True to adopt the future default and silence this warning.\n",
            "  groups = [x.to_list() for _, x in tip3.groupby('day')[target]]\n"
          ]
        }
      ]
    },
    {
      "cell_type": "code",
      "source": [
        "#[2] levene의 center는 'median'으로 지정\n",
        "from scipy.stats import levene,shapiro\n",
        "\n",
        "# 정규성 검정\n",
        "_,pvalueA = shapiro(gA)\n",
        "_,pvalueB = shapiro(gB)\n",
        "_,pvalueC = shapiro(gC)\n",
        "_,pvalueD = shapiro(gD)\n",
        "print(pvalueA,pvalueB,pvalueC,pvalueD)\n",
        "# 정규성을 만족하지 않음\n",
        "print([round(shapiro(x)[1],4) for x in groups])\n",
        "\n",
        "# 등분산성 검정\n",
        "statistic,pvalue = levene(*groups,center='median')\n",
        "print(statistic,pvalue) #등분산성을 만족함\n"
      ],
      "metadata": {
        "colab": {
          "base_uri": "https://localhost:8080/"
        },
        "id": "RoM39vci3mck",
        "outputId": "64dd8dea-720f-46cf-d657-eb6177f06971"
      },
      "execution_count": null,
      "outputs": [
        {
          "output_type": "stream",
          "name": "stdout",
          "text": [
            "2.85715908758707e-05 0.04085649671549424 7.991754612612711e-06 0.0035657960627037957\n",
            "[0.0, 0.0409, 0.0, 0.0036]\n",
            "0.6653578279881612 0.5740792267812198\n"
          ]
        }
      ]
    }
  ]
}